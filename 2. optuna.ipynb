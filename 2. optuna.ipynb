{
 "cells": [
  {
   "cell_type": "code",
   "execution_count": null,
   "metadata": {},
   "outputs": [],
   "source": [
    "def objectiveCBR(trial):\n",
    "\n",
    "    param = {\n",
    "        'iterations':trial.suggest_int(\"iterations\", 4000, 25000),\n",
    "        'od_wait':trial.suggest_int('od_wait', 500, 2300),\n",
    "        'learning_rate' : trial.suggest_uniform('learning_rate',0.01, 1),\n",
    "        'reg_lambda': trial.suggest_uniform('reg_lambda',1e-5,100),\n",
    "        'subsample': trial.suggest_uniform('subsample',0,1),\n",
    "        'random_strength': trial.suggest_uniform('random_strength',10,50),\n",
    "        'depth': trial.suggest_int('depth',1, 15),\n",
    "        'min_data_in_leaf': trial.suggest_int('min_data_in_leaf',1,30),\n",
    "        'leaf_estimation_iterations': trial.suggest_int('leaf_estimation_iterations',1,15),\n",
    "        'bagging_temperature' :trial.suggest_loguniform('bagging_temperature', 0.01, 100.00),\n",
    "        'colsample_bylevel':trial.suggest_float('colsample_bylevel', 0.4, 1.0),\n",
    "    }\n",
    "\n",
    "    # 학습 모델 생성\n",
    "    model = CatBoostRegressor(**param)\n",
    "    cbr_model = model.fit(x_train, y_train, verbose=True) # 학습 진행\n",
    "\n",
    "    # 모델 성능 확인\n",
    "    y_pred_test_cbr = np.expm1(cbr_model.predict(x_test))\n",
    "    rmse_test_cbr = rmse(np.expm1(y_test), y_pred_test_cbr)\n",
    "  \n",
    "    return rmse_test_cbr"
   ]
  },
  {
   "cell_type": "code",
   "execution_count": null,
   "metadata": {},
   "outputs": [],
   "source": [
    "# optuna 진행\n",
    "cbr_study = optuna.create_study(direction=\"minimize\")\n",
    "\n",
    "cbr_study.optimize(objectiveCBR, n_trials=50, timeout=600)\n",
    "\n",
    "print(\"Number of finished trials: {}\".format(len(cbr_study.trials)))\n",
    "\n",
    "print(\"Best trial:\")\n",
    "trial = cbr_study.best_trial\n",
    "\n",
    "print(\"  Value: {}\".format(trial.value))\n",
    "\n",
    "print(\"  Params: \")\n",
    "for key, value in trial.params.items():\n",
    "    print(\"    {}: {}\".format(key, value))"
   ]
  },
  {
   "cell_type": "code",
   "execution_count": null,
   "metadata": {},
   "outputs": [],
   "source": [
    "def objectiveRF(trial):\n",
    "\n",
    "    param = {\n",
    "            'n_estimators': trial.suggest_int('n_estimators', 50, 1000),\n",
    "            'max_depth': trial.suggest_int('max_depth', 4, 50),\n",
    "            'min_samples_split': trial.suggest_int('min_samples_split', 1, 150),\n",
    "            'min_samples_leaf': trial.suggest_int('min_samples_leaf', 1, 60),\n",
    "        }\n",
    "\n",
    "    # 학습 모델 생성\n",
    "    model = RandomForestRegressor(**param)\n",
    "    rf_model = model.fit(x_train, y_train) # 학습 진행\n",
    "\n",
    "    # 모델 성능 확인\n",
    "    y_pred_test_rf = np.expm1(rf_model.predict(x_test))\n",
    "    rmse_test_rf = rmse(np.expm1(y_test), y_pred_test_rf)\n",
    "  \n",
    "    return rmse_test_rf"
   ]
  },
  {
   "cell_type": "code",
   "execution_count": null,
   "metadata": {},
   "outputs": [],
   "source": [
    "rf_study = optuna.create_study(direction=\"minimize\")\n",
    "\n",
    "rf_study.optimize(objectiveRF, n_trials=50, timeout=600)\n",
    "\n",
    "print(\"Number of finished trials: {}\".format(len(rf_study.trials)))\n",
    "\n",
    "print(\"Best trial:\")\n",
    "trial = rf_study.best_trial\n",
    "\n",
    "print(\"  Value: {}\".format(trial.value))\n",
    "\n",
    "print(\"  Params: \")\n",
    "for key, value in trial.params.items():\n",
    "    print(\"    {}: {}\".format(key, value))"
   ]
  }
 ],
 "metadata": {
  "language_info": {
   "name": "python"
  },
  "orig_nbformat": 4
 },
 "nbformat": 4,
 "nbformat_minor": 2
}
